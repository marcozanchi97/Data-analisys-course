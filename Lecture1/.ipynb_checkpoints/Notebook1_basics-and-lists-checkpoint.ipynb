{
 "cells": [
  {
   "cell_type": "markdown",
   "id": "c1d908e4",
   "metadata": {},
   "source": [
    "Vari comandi interfaccia jupyter notebook"
   ]
  },
  {
   "cell_type": "code",
   "execution_count": 1,
   "id": "fa5ac1fa",
   "metadata": {},
   "outputs": [
    {
     "data": {
      "text/plain": [
       "20"
      ]
     },
     "execution_count": 1,
     "metadata": {},
     "output_type": "execute_result"
    }
   ],
   "source": [
    "5*4"
   ]
  },
  {
   "cell_type": "code",
   "execution_count": 2,
   "id": "921549e4",
   "metadata": {},
   "outputs": [
    {
     "data": {
      "text/plain": [
       "4689944"
      ]
     },
     "execution_count": 2,
     "metadata": {},
     "output_type": "execute_result"
    }
   ],
   "source": [
    "56*83749"
   ]
  },
  {
   "cell_type": "code",
   "execution_count": 3,
   "id": "6b74a2a3",
   "metadata": {},
   "outputs": [
    {
     "data": {
      "text/plain": [
       "135012008452458"
      ]
     },
     "execution_count": 3,
     "metadata": {},
     "output_type": "execute_result"
    }
   ],
   "source": [
    "475828338*283741"
   ]
  },
  {
   "cell_type": "code",
   "execution_count": 4,
   "id": "ffcdda3f",
   "metadata": {},
   "outputs": [
    {
     "name": "stdout",
     "output_type": "stream",
     "text": [
      "My name is marco and I am 24 years old\n"
     ]
    }
   ],
   "source": [
    "print('My name is marco and I am',24,'years old')"
   ]
  },
  {
   "cell_type": "code",
   "execution_count": 33,
   "id": "3e42be83",
   "metadata": {},
   "outputs": [
    {
     "ename": "NameError",
     "evalue": "name 'b' is not defined",
     "output_type": "error",
     "traceback": [
      "\u001b[0;31m---------------------------------------------------------------------------\u001b[0m",
      "\u001b[0;31mNameError\u001b[0m                                 Traceback (most recent call last)",
      "\u001b[0;32m/var/folders/_5/ct8d4nfx4b7g4qlrnrb1rm7c0000gn/T/ipykernel_58324/1476361780.py\u001b[0m in \u001b[0;36m<module>\u001b[0;34m\u001b[0m\n\u001b[1;32m      1\u001b[0m \u001b[0;36m475828338\u001b[0m\u001b[0;34m*\u001b[0m\u001b[0;36m283741\u001b[0m\u001b[0;34m\u001b[0m\u001b[0;34m\u001b[0m\u001b[0m\n\u001b[0;32m----> 2\u001b[0;31m \u001b[0mb\u001b[0m\u001b[0;34m\u001b[0m\u001b[0;34m\u001b[0m\u001b[0m\n\u001b[0m",
      "\u001b[0;31mNameError\u001b[0m: name 'b' is not defined"
     ]
    }
   ],
   "source": [
    "475828338*283741\n",
    "b"
   ]
  },
  {
   "cell_type": "code",
   "execution_count": null,
   "id": "e1ed6ee3",
   "metadata": {},
   "outputs": [],
   "source": [
    "# command+s save\n",
    "#shift+enter run"
   ]
  },
  {
   "cell_type": "markdown",
   "id": "5c826e6c",
   "metadata": {},
   "source": [
    "### Variables"
   ]
  },
  {
   "cell_type": "code",
   "execution_count": 5,
   "id": "fa6983e0",
   "metadata": {},
   "outputs": [],
   "source": [
    "age = 24 "
   ]
  },
  {
   "cell_type": "code",
   "execution_count": 6,
   "id": "98ffe63f",
   "metadata": {},
   "outputs": [
    {
     "name": "stdout",
     "output_type": "stream",
     "text": [
      "My name is marco and I am 24 years old\n"
     ]
    }
   ],
   "source": [
    "print('My name is marco and I am',age,'years old')\n",
    "\n",
    "#print is very useful for debugging (try to correct your code when it fails)"
   ]
  },
  {
   "cell_type": "code",
   "execution_count": 7,
   "id": "bb7406c9",
   "metadata": {},
   "outputs": [
    {
     "name": "stdout",
     "output_type": "stream",
     "text": [
      "My name is andrea and I am 24 years old\n"
     ]
    }
   ],
   "source": [
    "print('My name is andrea and I am',age,'years old')"
   ]
  },
  {
   "cell_type": "code",
   "execution_count": 8,
   "id": "d28cadcf",
   "metadata": {},
   "outputs": [
    {
     "name": "stdout",
     "output_type": "stream",
     "text": [
      "My name is luca and I am 24 years old\n"
     ]
    }
   ],
   "source": [
    "print('My name is luca and I am',age,'years old')"
   ]
  },
  {
   "cell_type": "code",
   "execution_count": 11,
   "id": "28753ca8",
   "metadata": {},
   "outputs": [],
   "source": [
    "age1 = 25.6"
   ]
  },
  {
   "cell_type": "code",
   "execution_count": 13,
   "id": "bb2d3228",
   "metadata": {},
   "outputs": [
    {
     "name": "stdout",
     "output_type": "stream",
     "text": [
      "49.6\n",
      "614.4000000000001\n",
      "0.9375\n",
      "24.0\n"
     ]
    }
   ],
   "source": [
    "print(age+age1)\n",
    "print(age*age1)\n",
    "print(age/age1)\n",
    "print(age%age1)"
   ]
  },
  {
   "cell_type": "code",
   "execution_count": 14,
   "id": "e3711944",
   "metadata": {},
   "outputs": [],
   "source": [
    "name = 'Marco'"
   ]
  },
  {
   "cell_type": "code",
   "execution_count": 16,
   "id": "ec2d8cf5",
   "metadata": {},
   "outputs": [
    {
     "name": "stdout",
     "output_type": "stream",
     "text": [
      "My name is Marco and I am 24 years old\n"
     ]
    }
   ],
   "source": [
    "print('My name is',name,'and I am',age,'years old')"
   ]
  },
  {
   "cell_type": "markdown",
   "id": "80b7b116",
   "metadata": {},
   "source": [
    "Now we have seen how to write single numbers and do some basic operations (more or less we are at the point like having simply paper and a pencil to do some basic operation). However I want to teach you how to treat big data, so the first question is: How we can store big data?"
   ]
  },
  {
   "cell_type": "markdown",
   "id": "289d66d7",
   "metadata": {},
   "source": [
    "## Lists"
   ]
  },
  {
   "cell_type": "code",
   "execution_count": 1,
   "id": "01e9bcd1",
   "metadata": {},
   "outputs": [
    {
     "name": "stdout",
     "output_type": "stream",
     "text": [
      "ages 0 is 21\n",
      "ages 1 is 22\n",
      "names 0 is red\n",
      "names 1 is blu\n"
     ]
    }
   ],
   "source": [
    "ages = [21, 22, 23, 22, 24]\n",
    "names = ['red','blu','yellow','green','black']\n",
    "\n",
    "\n",
    "print('ages 0 is',ages[0])\n",
    "print('ages 1 is',ages[1])\n",
    "\n",
    "print('names 0 is',names[0])\n",
    "print('names 1 is',names[1])\n",
    "\n",
    "\n",
    "#instead of writing\n",
    "\n",
    "age1 = 21\n",
    "age2 = 22\n",
    "age3 = 23\n",
    "age4 = 22\n",
    "age5 = 24\n",
    "\n",
    "#the same with names\n",
    "name1 = 'Marco'\n",
    "name2 = 'Giovanni'\n",
    "name3 = 'Andrea'\n"
   ]
  },
  {
   "cell_type": "markdown",
   "id": "a56070bb",
   "metadata": {},
   "source": [
    "### Methods"
   ]
  },
  {
   "cell_type": "markdown",
   "id": "976f456a",
   "metadata": {},
   "source": [
    "What are methods? methods are similar to mathematic functions. They take a variable, do something and return a new variable. Python offers some special methods to work on lists. They are simply some commands which take as input the list, do some operation and return as output the list itself or a variable related to it. The sintax in general is list_name.method(some_input_argument). Below there are some examples:"
   ]
  },
  {
   "cell_type": "code",
   "execution_count": 2,
   "id": "fb0b0518",
   "metadata": {},
   "outputs": [
    {
     "name": "stdout",
     "output_type": "stream",
     "text": [
      "[21, 22, 23, 22, 24, 25]\n"
     ]
    }
   ],
   "source": [
    "# append() : adds an item to the end of the list.\n",
    "ages = [21, 22, 23, 22, 24]\n",
    "\n",
    "ages.append(25)\n",
    "print(ages)"
   ]
  },
  {
   "cell_type": "code",
   "execution_count": 3,
   "id": "3f5ec5d6",
   "metadata": {},
   "outputs": [
    {
     "name": "stdout",
     "output_type": "stream",
     "text": [
      "[]\n"
     ]
    }
   ],
   "source": [
    "#clear(): removes all items from the list.\n",
    "ages = [21, 22, 23, 22, 24]\n",
    "\n",
    "ages.clear()\n",
    "print(ages)"
   ]
  },
  {
   "cell_type": "code",
   "execution_count": 5,
   "id": "3ab265b6",
   "metadata": {},
   "outputs": [
    {
     "name": "stdout",
     "output_type": "stream",
     "text": [
      "1\n",
      "2\n"
     ]
    }
   ],
   "source": [
    "# count() : returns the number of times the specified element appears in the list.\n",
    "ages = [21, 22, 23, 22, 24]\n",
    "\n",
    "count_23 = ages.count(23)\n",
    "print(count_23)\n",
    "\n",
    "count_22 = ages.count(22)\n",
    "print(count_22)"
   ]
  },
  {
   "cell_type": "code",
   "execution_count": 8,
   "id": "7a63a236",
   "metadata": {},
   "outputs": [
    {
     "name": "stdout",
     "output_type": "stream",
     "text": [
      "0\n",
      "2\n",
      "1\n"
     ]
    }
   ],
   "source": [
    "# index() : returns the index of the specified element in the list\n",
    "\n",
    "ages = [21, 22, 23, 22, 24]\n",
    "\n",
    "index_21 = ages.index(21)\n",
    "print(index_21)\n",
    "\n",
    "index_23 = ages.index(23)\n",
    "print(index_23)\n",
    "\n",
    "index_22 = ages.index(22)\n",
    "print(index_22)"
   ]
  },
  {
   "cell_type": "code",
   "execution_count": 16,
   "id": "e70603f6",
   "metadata": {},
   "outputs": [
    {
     "name": "stdout",
     "output_type": "stream",
     "text": [
      "['red', 'blu', 'yellow']\n",
      "['red', 'blu', 'yellow', 'green']\n",
      "['red', 'black', 'blu', 'yellow', 'green']\n",
      "['red', 'black', 'white', 'blu', 'yellow', 'green']\n"
     ]
    }
   ],
   "source": [
    "# insert() :  inserts an element to the list at the specified index.\n",
    "\n",
    "colors = ['red','blu','yellow']\n",
    "print(colors)\n",
    "colors.insert(3, 'green')\n",
    "print(colors)\n",
    "colors.insert(1, 'black')\n",
    "print(colors)\n",
    "colors.insert(2, 'white')\n",
    "print(colors)"
   ]
  },
  {
   "cell_type": "code",
   "execution_count": 18,
   "id": "f16f7da3",
   "metadata": {},
   "outputs": [
    {
     "name": "stdout",
     "output_type": "stream",
     "text": [
      "['blu', 'yellow']\n",
      "['blu', 'yellow', 'red']\n"
     ]
    }
   ],
   "source": [
    "# remove() : removes the first matching element (which is passed as an argument) from the list.\n",
    "\n",
    "colors = ['red','blu','yellow']\n",
    "colors.remove('red')\n",
    "print(colors)\n",
    "\n",
    "colors = ['red','blu','yellow','red']\n",
    "colors.remove('red')\n",
    "print(colors)"
   ]
  },
  {
   "cell_type": "code",
   "execution_count": 20,
   "id": "f26be580",
   "metadata": {},
   "outputs": [
    {
     "name": "stdout",
     "output_type": "stream",
     "text": [
      "['blu', 'yellow']\n",
      "['red', 'blu']\n"
     ]
    }
   ],
   "source": [
    "# pop() : removes the item at the given index from the list and returns the removed item.\n",
    "\n",
    "colors = ['red','blu','yellow']\n",
    "colors.pop(0)\n",
    "print(colors)\n",
    "\n",
    "colors = ['red','blu','yellow']\n",
    "colors.pop(2)\n",
    "print(colors)"
   ]
  },
  {
   "cell_type": "code",
   "execution_count": 28,
   "id": "be5e7353",
   "metadata": {},
   "outputs": [
    {
     "name": "stdout",
     "output_type": "stream",
     "text": [
      "[1, 2, 3, 4, 5, 6, 7, 8, 9]\n",
      "[9, 8, 7, 6, 5, 4, 3, 2, 1]\n",
      "[1, 2, 3, 4, 5, 6, 7, 8, 9]\n",
      "['black', 'blu', 'green', 'red', 'yellow', 'zeta']\n"
     ]
    }
   ],
   "source": [
    "# sort() : sorts the elements of a given list in a specific ascending or descending order.\n",
    "\n",
    "numbers = [1,7,9,3,5,2,8,6,4]\n",
    "\n",
    "numbers.sort()\n",
    "print(numbers)\n",
    "\n",
    "numbers.sort(reverse = True)\n",
    "print(numbers)\n",
    "\n",
    "#the people which have made the methof sort have put by default the input_argument 'reverse' as False\n",
    "numbers.sort(reverse = False)\n",
    "print(numbers)\n",
    "\n",
    "colors = ['red','blu','yellow','green','black','zeta']\n",
    "colors.sort()\n",
    "print(colors)"
   ]
  },
  {
   "cell_type": "code",
   "execution_count": 31,
   "id": "436f3935",
   "metadata": {},
   "outputs": [
    {
     "name": "stdout",
     "output_type": "stream",
     "text": [
      "[1, 7, 9, 3, 5, 2, 8, 6, 4, 'red', 'blu', 'yellow', 'green', 'black', 'zeta']\n"
     ]
    }
   ],
   "source": [
    "#concatenate two lists\n",
    "\n",
    "numbers = [1,7,9,3,5,2,8,6,4]\n",
    "colors = ['red','blu','yellow','green','black','zeta']\n",
    "print(numbers+colors)"
   ]
  },
  {
   "cell_type": "code",
   "execution_count": null,
   "id": "537a4d0d",
   "metadata": {},
   "outputs": [],
   "source": [
    "np.stack\n",
    "np.vstack\n",
    "np.hstack\n",
    "np.sort"
   ]
  }
 ],
 "metadata": {
  "kernelspec": {
   "display_name": "Python 3 (ipykernel)",
   "language": "python",
   "name": "python3"
  },
  "language_info": {
   "codemirror_mode": {
    "name": "ipython",
    "version": 3
   },
   "file_extension": ".py",
   "mimetype": "text/x-python",
   "name": "python",
   "nbconvert_exporter": "python",
   "pygments_lexer": "ipython3",
   "version": "3.8.12"
  }
 },
 "nbformat": 4,
 "nbformat_minor": 5
}
