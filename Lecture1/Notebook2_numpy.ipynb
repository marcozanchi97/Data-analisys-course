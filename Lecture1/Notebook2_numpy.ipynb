{
 "cells": [
  {
   "cell_type": "markdown",
   "id": "73abe4fd",
   "metadata": {},
   "source": [
    "Another way to store and do some 'organization operation' is numpy. Numpy is a library. What is a library? A library is a collection of methods made by someone that we can use for our research. In this case methods are a bit different from which we have seen before. In the cose of lists we were using some specific methods of list variables, they were like attributes of list type variables. In that case methods are more simple, they take something in and returns something. So the sintax is output = method(input)."
   ]
  },
  {
   "cell_type": "markdown",
   "id": "d7f583de",
   "metadata": {},
   "source": [
    "NumPy is the fundamental library for array containers in the Python Scientific Computing stack. Many Python libraries, including SciPy, Pandas, and OpenCV, use NumPy ndarrays as the common format for data exchange, These libraries can create, operate on, and work with NumPy arrays."
   ]
  },
  {
   "cell_type": "code",
   "execution_count": 1,
   "id": "bb3a3092",
   "metadata": {},
   "outputs": [],
   "source": [
    "#in order to have access to numpy we have to order to the notebook to gain acees to it\n",
    "\n",
    "import numpy as np"
   ]
  },
  {
   "cell_type": "markdown",
   "id": "213c4015",
   "metadata": {},
   "source": [
    "How the notebook knows about numpy? If you rembember when you have installed the anaconda etc etc you have also installed some libraries that I have suggested to you (numpy was one of those libraries)"
   ]
  },
  {
   "cell_type": "code",
   "execution_count": 3,
   "id": "f752d575",
   "metadata": {},
   "outputs": [],
   "source": [
    "#How create a numpy array:\n",
    "\n",
    "array = np.array([1, 2, 3, 4])\n"
   ]
  },
  {
   "cell_type": "code",
   "execution_count": 17,
   "id": "d24d9cf3",
   "metadata": {},
   "outputs": [
    {
     "name": "stdout",
     "output_type": "stream",
     "text": [
      "[ 6  8 10 12]\n",
      "[-4 -4 -4 -4]\n",
      "[ 5 12 21 32]\n",
      "[0.2        0.33333333 0.42857143 0.5       ]\n",
      "[2 3 4 5]\n",
      "[-2 -1  0  1]\n",
      "[2 4 6 8]\n",
      "[0.25 0.5  0.75 1.  ]\n",
      "[1, 2, 3, 4, 1, 2, 3, 4]\n"
     ]
    },
    {
     "ename": "TypeError",
     "evalue": "unsupported operand type(s) for /: 'list' and 'int'",
     "output_type": "error",
     "traceback": [
      "\u001b[0;31m---------------------------------------------------------------------------\u001b[0m",
      "\u001b[0;31mTypeError\u001b[0m                                 Traceback (most recent call last)",
      "\u001b[0;32m/var/folders/_5/ct8d4nfx4b7g4qlrnrb1rm7c0000gn/T/ipykernel_58408/1877570291.py\u001b[0m in \u001b[0;36m<module>\u001b[0;34m\u001b[0m\n\u001b[1;32m     19\u001b[0m \u001b[0;34m\u001b[0m\u001b[0m\n\u001b[1;32m     20\u001b[0m \u001b[0mprint\u001b[0m\u001b[0;34m(\u001b[0m\u001b[0mlist1\u001b[0m\u001b[0;34m*\u001b[0m\u001b[0;36m2\u001b[0m\u001b[0;34m)\u001b[0m\u001b[0;34m\u001b[0m\u001b[0;34m\u001b[0m\u001b[0m\n\u001b[0;32m---> 21\u001b[0;31m \u001b[0mprint\u001b[0m\u001b[0;34m(\u001b[0m\u001b[0mlist1\u001b[0m\u001b[0;34m/\u001b[0m\u001b[0;36m2\u001b[0m\u001b[0;34m)\u001b[0m\u001b[0;34m\u001b[0m\u001b[0;34m\u001b[0m\u001b[0m\n\u001b[0m\u001b[1;32m     22\u001b[0m \u001b[0;34m\u001b[0m\u001b[0m\n\u001b[1;32m     23\u001b[0m \u001b[0mprint\u001b[0m\u001b[0;34m(\u001b[0m\u001b[0mlist1\u001b[0m\u001b[0;34m/\u001b[0m\u001b[0mlist2\u001b[0m\u001b[0;34m)\u001b[0m\u001b[0;34m\u001b[0m\u001b[0;34m\u001b[0m\u001b[0m\n",
      "\u001b[0;31mTypeError\u001b[0m: unsupported operand type(s) for /: 'list' and 'int'"
     ]
    }
   ],
   "source": [
    "#First advantage of np array\n",
    "\n",
    "array1 = np.array([1, 2, 3, 4])\n",
    "array2 = np.array([5, 6, 7, 8])\n",
    "\n",
    "print(array1+array2)\n",
    "print(array1-array2)\n",
    "print(array1*array2)\n",
    "print(array1/array2)\n",
    "\n",
    "print(array1+1)\n",
    "print(array1-3)\n",
    "print(array1*2)\n",
    "print(array1/4)\n",
    "\n",
    "list1 = [1, 2, 3, 4]\n",
    "list2 = [5, 6, 7, 8]\n",
    "\n",
    "\n",
    "print(list1*2)\n",
    "print(list1/2)\n",
    "\n",
    "print(list1/list2)\n",
    "print(list1*list2)\n",
    "print(list1-list2)\n"
   ]
  },
  {
   "cell_type": "code",
   "execution_count": 19,
   "id": "e169d8ed",
   "metadata": {},
   "outputs": [
    {
     "name": "stdout",
     "output_type": "stream",
     "text": [
      "[1. 1. 1. 1. 1.]\n",
      "[1. 1. 1. 1. 1. 1. 1. 1. 1. 1.]\n"
     ]
    }
   ],
   "source": [
    "ones_array = np.ones(5)\n",
    "print(ones_array)\n",
    "\n",
    "ones_array = np.ones(10)\n",
    "print(ones_array)"
   ]
  },
  {
   "cell_type": "code",
   "execution_count": 21,
   "id": "d3efa9f1",
   "metadata": {},
   "outputs": [
    {
     "name": "stdout",
     "output_type": "stream",
     "text": [
      "[0. 0. 0. 0. 0.]\n",
      "[0. 0. 0. 0. 0. 0. 0. 0. 0. 0.]\n"
     ]
    }
   ],
   "source": [
    "zeros_array = np.zeros(5)\n",
    "print(zeros_array)\n",
    "\n",
    "zeros_array = np.zeros(10)\n",
    "print(zeros_array)"
   ]
  },
  {
   "cell_type": "markdown",
   "id": "4736e1d8",
   "metadata": {},
   "source": [
    "array = np.arange(10)\n",
    "print(array)\n",
    "\n",
    "#start, end, step\n",
    "array = np.arange(0,20,5)\n",
    "print(array)\n",
    "#doesn't include the last number"
   ]
  },
  {
   "cell_type": "code",
   "execution_count": 27,
   "id": "2c843857",
   "metadata": {},
   "outputs": [
    {
     "name": "stdout",
     "output_type": "stream",
     "text": [
      "[ 0.  5. 10. 15. 20.]\n"
     ]
    }
   ],
   "source": [
    "array = np.linspace(0, 20, 5)\n",
    "print(array)\n",
    "#includes the last number"
   ]
  },
  {
   "cell_type": "code",
   "execution_count": 31,
   "id": "f75c555a",
   "metadata": {},
   "outputs": [
    {
     "name": "stdout",
     "output_type": "stream",
     "text": [
      "[[1 2]\n",
      " [3 4]]\n"
     ]
    }
   ],
   "source": [
    "# a 2-dimensional array is an array which elements are 1-dimensional arrays\n",
    "\n",
    "a2D = np.array([[1, 2], [3, 4]])\n",
    "print(a2D)"
   ]
  },
  {
   "cell_type": "code",
   "execution_count": 32,
   "id": "18c433ca",
   "metadata": {},
   "outputs": [
    {
     "name": "stdout",
     "output_type": "stream",
     "text": [
      "[[[1 2]\n",
      "  [3 4]]\n",
      "\n",
      " [[5 6]\n",
      "  [7 8]]]\n"
     ]
    }
   ],
   "source": [
    "# a 3-dimensional array is an array which elements are 2-dimensional arrays\n",
    "\n",
    "\n",
    "\n",
    "a3D = np.array([[[1, 2], [3, 4]], [[5, 6], [7, 8]]])\n",
    "print(a3D)"
   ]
  },
  {
   "cell_type": "markdown",
   "id": "5c36b3b9",
   "metadata": {},
   "source": [
    "### Indexing"
   ]
  },
  {
   "cell_type": "code",
   "execution_count": 40,
   "id": "b512e8be",
   "metadata": {},
   "outputs": [
    {
     "name": "stdout",
     "output_type": "stream",
     "text": [
      "[0 1 2 3 4 5 6 7 8 9]\n"
     ]
    }
   ],
   "source": [
    "a1D = np.arange(10)\n",
    "print(a1D)"
   ]
  },
  {
   "cell_type": "code",
   "execution_count": 47,
   "id": "e54e30cd",
   "metadata": {},
   "outputs": [
    {
     "name": "stdout",
     "output_type": "stream",
     "text": [
      "[2 3 4 5 6 7]\n",
      "[3 4]\n",
      "[0 1 2 3 4]\n",
      "[5 6 7 8 9]\n",
      "[5 6 7 8]\n",
      "[5 6 7]\n"
     ]
    }
   ],
   "source": [
    "a1D_reduced = a1D[2:8] # [from:to], to is excluded\n",
    "print(a1D_reduced)\n",
    "\n",
    "a1D_reduced = a1D[3:5]\n",
    "print(a1D_reduced)\n",
    "\n",
    "a1D_reduced = a1D[:5]\n",
    "print(a1D_reduced)\n",
    "\n",
    "a1D_reduced = a1D[5:]\n",
    "print(a1D_reduced)\n",
    "\n",
    "a1D_reduced = a1D[5:-1]\n",
    "print(a1D_reduced)\n",
    "\n",
    "a1D_reduced = a1D[5:-2]\n",
    "print(a1D_reduced)"
   ]
  },
  {
   "cell_type": "code",
   "execution_count": 51,
   "id": "c23036ae",
   "metadata": {},
   "outputs": [
    {
     "data": {
      "text/plain": [
       "array([[0, 1, 2],\n",
       "       [3, 4, 5],\n",
       "       [6, 7, 8]])"
      ]
     },
     "execution_count": 51,
     "metadata": {},
     "output_type": "execute_result"
    }
   ],
   "source": [
    "a2D = np.array([\n",
    "    np.arange(0,3,1),\n",
    "    np.arange(3,6,1),\n",
    "    np.arange(6,9,1)\n",
    "               ])\n",
    "print(a2D)"
   ]
  },
  {
   "cell_type": "code",
   "execution_count": 53,
   "id": "c4f38736",
   "metadata": {},
   "outputs": [
    {
     "name": "stdout",
     "output_type": "stream",
     "text": [
      "[[1]\n",
      " [4]]\n",
      "[[3 4 5]]\n"
     ]
    }
   ],
   "source": [
    "print(a2D[:2, 1:2])   #axis 1, axis 0"
   ]
  },
  {
   "cell_type": "code",
   "execution_count": 54,
   "id": "69c8564d",
   "metadata": {},
   "outputs": [
    {
     "name": "stdout",
     "output_type": "stream",
     "text": [
      "[[3 4 5]]\n"
     ]
    }
   ],
   "source": [
    "print(a2D[1:2, :]) "
   ]
  },
  {
   "cell_type": "code",
   "execution_count": 55,
   "id": "a9db3cf2",
   "metadata": {},
   "outputs": [
    {
     "name": "stdout",
     "output_type": "stream",
     "text": [
      "[[0]]\n"
     ]
    }
   ],
   "source": [
    "print(a2D[:1, :1]) "
   ]
  },
  {
   "cell_type": "code",
   "execution_count": 59,
   "id": "09299c99",
   "metadata": {},
   "outputs": [
    {
     "name": "stdout",
     "output_type": "stream",
     "text": [
      "[[ 0  1  2  3  4]\n",
      " [ 5  6  7  8  9]\n",
      " [10 11 12 13 14]\n",
      " [15 16 17 18 19]\n",
      " [20 21 22 23 24]]\n"
     ]
    }
   ],
   "source": [
    "#Exercise 2D\n",
    "\n",
    "a2D = np.array([\n",
    "    np.arange(0,5,1),\n",
    "    np.arange(5,10,1),\n",
    "    np.arange(10,15,1),\n",
    "    np.arange(15,20,1),\n",
    "    np.arange(20,25,1)\n",
    "               ])\n",
    "print(a2D)\n",
    "\n",
    "#print(a2D[1:3, 2:4])\n",
    "#print(a2D[:2, 1:3])\n",
    "#print(a2D[2:4, :-1])"
   ]
  },
  {
   "cell_type": "code",
   "execution_count": 61,
   "id": "efe7a365",
   "metadata": {},
   "outputs": [],
   "source": [
    "#Exercise 3D\n",
    "\n"
   ]
  },
  {
   "cell_type": "markdown",
   "id": "649f9717",
   "metadata": {},
   "source": [
    "### Numpy methods"
   ]
  },
  {
   "cell_type": "code",
   "execution_count": 73,
   "id": "907a66b8",
   "metadata": {},
   "outputs": [
    {
     "name": "stdout",
     "output_type": "stream",
     "text": [
      "0\n",
      "9\n",
      "0\n",
      "24\n",
      "[0 1 2 3 4]\n",
      "[ 0  5 10 15 20]\n",
      "0\n"
     ]
    }
   ],
   "source": [
    "#min and max: np.min(array)\n",
    "\n",
    "#1-dimensional\n",
    "a1D = np.arange(10) \n",
    "\n",
    "min_value = np.min(a1D)\n",
    "print(min_value)\n",
    "\n",
    "max_value = np.max(a1D)\n",
    "print(max_value)\n",
    "\n",
    "\n",
    "\n",
    "#2-dimensional\n",
    "a2D = np.array([\n",
    "    np.arange(0,5,1),\n",
    "    np.arange(5,10,1),\n",
    "    np.arange(10,15,1),\n",
    "    np.arange(15,20,1),\n",
    "    np.arange(20,25,1)\n",
    "               ])\n",
    "\n",
    "min_value = np.min(a2D)\n",
    "print(min_value)\n",
    "\n",
    "max_value = np.max(a2D)\n",
    "print(max_value)\n",
    "\n",
    "#gives the minimum column-wise\n",
    "min_value = np.min(a2D, axis = 0)\n",
    "print(min_value)\n",
    "\n",
    "#gives the minimum row-wise\n",
    "min_value = np.min(a2D, axis = 1)\n",
    "print(min_value)\n",
    "\n",
    "min_value = np.min(a2D, axis = None)\n",
    "print(min_value)"
   ]
  },
  {
   "cell_type": "code",
   "execution_count": 79,
   "id": "44317062",
   "metadata": {},
   "outputs": [
    {
     "name": "stdout",
     "output_type": "stream",
     "text": [
      "4.5\n",
      "12.0\n",
      "[10. 11. 12. 13. 14.]\n",
      "[ 2.  7. 12. 17. 22.]\n"
     ]
    }
   ],
   "source": [
    "# np.mean\n",
    "\n",
    "a1D = np.arange(10) \n",
    "mean = np.mean(a1D)\n",
    "print(mean)\n",
    "\n",
    "a2D = np.array([\n",
    "    np.arange(0,5,1),\n",
    "    np.arange(5,10,1),\n",
    "    np.arange(10,15,1),\n",
    "    np.arange(15,20,1),\n",
    "    np.arange(20,25,1)\n",
    "               ])\n",
    "\n",
    "mean = np.mean(a2D)\n",
    "print(mean)\n",
    "\n",
    "#mean column-wise\n",
    "mean = np.mean(a2D,axis = 0)\n",
    "print(mean)\n",
    "\n",
    "#mean row-wise\n",
    "mean = np.mean(a2D,axis = 1)\n",
    "print(mean)"
   ]
  },
  {
   "cell_type": "code",
   "execution_count": 81,
   "id": "9c7e3479",
   "metadata": {},
   "outputs": [
    {
     "name": "stdout",
     "output_type": "stream",
     "text": [
      "2.8722813232690143\n",
      "7.211102550927978\n",
      "[7.07106781 7.07106781 7.07106781 7.07106781 7.07106781]\n",
      "[1.41421356 1.41421356 1.41421356 1.41421356 1.41421356]\n"
     ]
    }
   ],
   "source": [
    "# np.std\n",
    "\n",
    "a1D = np.arange(10) \n",
    "std = np.std(a1D)\n",
    "print(std)\n",
    "\n",
    "a2D = np.array([\n",
    "    np.arange(0,5,1),\n",
    "    np.arange(5,10,1),\n",
    "    np.arange(10,15,1),\n",
    "    np.arange(15,20,1),\n",
    "    np.arange(20,25,1)\n",
    "               ])\n",
    "\n",
    "std = np.std(a2D)\n",
    "print(std)\n",
    "\n",
    "#std column-wise\n",
    "std = np.std(a2D,axis = 0)\n",
    "print(std)\n",
    "\n",
    "#std row-wise\n",
    "std = np.std(a2D,axis = 1)\n",
    "print(std)"
   ]
  },
  {
   "cell_type": "code",
   "execution_count": 28,
   "id": "371886ea",
   "metadata": {},
   "outputs": [
    {
     "name": "stdout",
     "output_type": "stream",
     "text": [
      "[1 2 3 4 5 6]\n",
      "[[1 2]\n",
      " [3 4]\n",
      " [5 6]]\n"
     ]
    }
   ],
   "source": [
    "#np.concatenate\n",
    "\n",
    "a = np.array([[1, 2], [3, 4]])\n",
    "b = np.array([[5, 6]])\n",
    "\n",
    "concatenate = np.concatenate((a, b),axis = None)\n",
    "print(concatenate)\n",
    "\n",
    "concatenate = np.concatenate((a, b),axis = 0)\n",
    "print(concatenate)"
   ]
  },
  {
   "cell_type": "code",
   "execution_count": null,
   "id": "11f01890",
   "metadata": {},
   "outputs": [],
   "source": []
  },
  {
   "cell_type": "code",
   "execution_count": null,
   "id": "2daa529d",
   "metadata": {},
   "outputs": [],
   "source": []
  },
  {
   "cell_type": "code",
   "execution_count": null,
   "id": "412fec17",
   "metadata": {},
   "outputs": [],
   "source": []
  },
  {
   "cell_type": "code",
   "execution_count": null,
   "id": "eb753688",
   "metadata": {},
   "outputs": [],
   "source": []
  }
 ],
 "metadata": {
  "kernelspec": {
   "display_name": "Python 3 (ipykernel)",
   "language": "python",
   "name": "python3"
  },
  "language_info": {
   "codemirror_mode": {
    "name": "ipython",
    "version": 3
   },
   "file_extension": ".py",
   "mimetype": "text/x-python",
   "name": "python",
   "nbconvert_exporter": "python",
   "pygments_lexer": "ipython3",
   "version": "3.8.12"
  }
 },
 "nbformat": 4,
 "nbformat_minor": 5
}
