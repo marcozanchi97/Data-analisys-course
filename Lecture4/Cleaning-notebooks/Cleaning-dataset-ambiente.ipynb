{
 "cells": [
  {
   "cell_type": "code",
   "execution_count": 15,
   "id": "a8e87430",
   "metadata": {},
   "outputs": [],
   "source": [
    "import pandas as pd\n",
    "import numpy as np"
   ]
  },
  {
   "cell_type": "code",
   "execution_count": 16,
   "id": "f3f9cf7c",
   "metadata": {},
   "outputs": [],
   "source": [
    "df = pd.read_csv('Data/particulates-matter/sdg_11_50_1_Data.csv',encoding= 'unicode_escape')\n",
    "\n",
    "df.drop(labels=['Flag and Footnotes'],axis = 1,inplace = True)\n",
    "df.rename(columns={\n",
    "        'TIME': 'Year', \n",
    "        'GEO': 'Nation',\n",
    "        'AIRPOL': 'Pollutant',\n",
    "        'Value': 'µg/m3'\n",
    "    }, inplace=True)\n",
    "df.replace(':',np.nan, inplace=True)\n"
   ]
  },
  {
   "cell_type": "code",
   "execution_count": 17,
   "id": "8eb397f5",
   "metadata": {},
   "outputs": [],
   "source": [
    "df = df[(df.Year<2020) & (df.Year>=2017)]"
   ]
  },
  {
   "cell_type": "code",
   "execution_count": 18,
   "id": "9556e66a",
   "metadata": {},
   "outputs": [
    {
     "data": {
      "text/plain": [
       "Year         0\n",
       "Nation       0\n",
       "Pollutant    0\n",
       "µg/m3        6\n",
       "dtype: int64"
      ]
     },
     "execution_count": 18,
     "metadata": {},
     "output_type": "execute_result"
    }
   ],
   "source": [
    "df.isnull().sum()"
   ]
  },
  {
   "cell_type": "code",
   "execution_count": 19,
   "id": "a03bf98e",
   "metadata": {},
   "outputs": [
    {
     "data": {
      "text/html": [
       "<div>\n",
       "<style scoped>\n",
       "    .dataframe tbody tr th:only-of-type {\n",
       "        vertical-align: middle;\n",
       "    }\n",
       "\n",
       "    .dataframe tbody tr th {\n",
       "        vertical-align: top;\n",
       "    }\n",
       "\n",
       "    .dataframe thead th {\n",
       "        text-align: right;\n",
       "    }\n",
       "</style>\n",
       "<table border=\"1\" class=\"dataframe\">\n",
       "  <thead>\n",
       "    <tr style=\"text-align: right;\">\n",
       "      <th></th>\n",
       "      <th>Year</th>\n",
       "      <th>Nation</th>\n",
       "      <th>Pollutant</th>\n",
       "      <th>µg/m3</th>\n",
       "    </tr>\n",
       "  </thead>\n",
       "  <tbody>\n",
       "    <tr>\n",
       "      <th>124</th>\n",
       "      <td>2017</td>\n",
       "      <td>Belgium</td>\n",
       "      <td>Particulates &lt; 2.5µm</td>\n",
       "      <td>12.8</td>\n",
       "    </tr>\n",
       "    <tr>\n",
       "      <th>125</th>\n",
       "      <td>2017</td>\n",
       "      <td>Belgium</td>\n",
       "      <td>Particulates &lt; 10µm</td>\n",
       "      <td>20.4</td>\n",
       "    </tr>\n",
       "    <tr>\n",
       "      <th>126</th>\n",
       "      <td>2017</td>\n",
       "      <td>Bulgaria</td>\n",
       "      <td>Particulates &lt; 2.5µm</td>\n",
       "      <td>23.8</td>\n",
       "    </tr>\n",
       "    <tr>\n",
       "      <th>127</th>\n",
       "      <td>2017</td>\n",
       "      <td>Bulgaria</td>\n",
       "      <td>Particulates &lt; 10µm</td>\n",
       "      <td>36.8</td>\n",
       "    </tr>\n",
       "    <tr>\n",
       "      <th>128</th>\n",
       "      <td>2017</td>\n",
       "      <td>Czechia</td>\n",
       "      <td>Particulates &lt; 2.5µm</td>\n",
       "      <td>18.4</td>\n",
       "    </tr>\n",
       "    <tr>\n",
       "      <th>...</th>\n",
       "      <td>...</td>\n",
       "      <td>...</td>\n",
       "      <td>...</td>\n",
       "      <td>...</td>\n",
       "    </tr>\n",
       "    <tr>\n",
       "      <th>305</th>\n",
       "      <td>2019</td>\n",
       "      <td>Norway</td>\n",
       "      <td>Particulates &lt; 10µm</td>\n",
       "      <td>11.8</td>\n",
       "    </tr>\n",
       "    <tr>\n",
       "      <th>306</th>\n",
       "      <td>2019</td>\n",
       "      <td>Switzerland</td>\n",
       "      <td>Particulates &lt; 2.5µm</td>\n",
       "      <td>9.2</td>\n",
       "    </tr>\n",
       "    <tr>\n",
       "      <th>307</th>\n",
       "      <td>2019</td>\n",
       "      <td>Switzerland</td>\n",
       "      <td>Particulates &lt; 10µm</td>\n",
       "      <td>13.6</td>\n",
       "    </tr>\n",
       "    <tr>\n",
       "      <th>308</th>\n",
       "      <td>2019</td>\n",
       "      <td>United Kingdom</td>\n",
       "      <td>Particulates &lt; 2.5µm</td>\n",
       "      <td>10.2</td>\n",
       "    </tr>\n",
       "    <tr>\n",
       "      <th>309</th>\n",
       "      <td>2019</td>\n",
       "      <td>United Kingdom</td>\n",
       "      <td>Particulates &lt; 10µm</td>\n",
       "      <td>15.3</td>\n",
       "    </tr>\n",
       "  </tbody>\n",
       "</table>\n",
       "<p>186 rows × 4 columns</p>\n",
       "</div>"
      ],
      "text/plain": [
       "     Year          Nation             Pollutant µg/m3\n",
       "124  2017         Belgium  Particulates < 2.5µm  12.8\n",
       "125  2017         Belgium   Particulates < 10µm  20.4\n",
       "126  2017        Bulgaria  Particulates < 2.5µm  23.8\n",
       "127  2017        Bulgaria   Particulates < 10µm  36.8\n",
       "128  2017         Czechia  Particulates < 2.5µm  18.4\n",
       "..    ...             ...                   ...   ...\n",
       "305  2019          Norway   Particulates < 10µm  11.8\n",
       "306  2019     Switzerland  Particulates < 2.5µm   9.2\n",
       "307  2019     Switzerland   Particulates < 10µm  13.6\n",
       "308  2019  United Kingdom  Particulates < 2.5µm  10.2\n",
       "309  2019  United Kingdom   Particulates < 10µm  15.3\n",
       "\n",
       "[186 rows x 4 columns]"
      ]
     },
     "execution_count": 19,
     "metadata": {},
     "output_type": "execute_result"
    }
   ],
   "source": [
    "df"
   ]
  },
  {
   "cell_type": "code",
   "execution_count": 20,
   "id": "318a1586",
   "metadata": {},
   "outputs": [],
   "source": [
    "df.to_csv('Data_cleaned/EU-particulate.csv')"
   ]
  },
  {
   "cell_type": "code",
   "execution_count": null,
   "id": "4cccdb00",
   "metadata": {},
   "outputs": [],
   "source": []
  }
 ],
 "metadata": {
  "kernelspec": {
   "display_name": "Python 3 (ipykernel)",
   "language": "python",
   "name": "python3"
  },
  "language_info": {
   "codemirror_mode": {
    "name": "ipython",
    "version": 3
   },
   "file_extension": ".py",
   "mimetype": "text/x-python",
   "name": "python",
   "nbconvert_exporter": "python",
   "pygments_lexer": "ipython3",
   "version": "3.8.12"
  }
 },
 "nbformat": 4,
 "nbformat_minor": 5
}
